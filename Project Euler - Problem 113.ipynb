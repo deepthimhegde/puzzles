{
 "cells": [
  {
   "cell_type": "markdown",
   "id": "2c3518d5",
   "metadata": {},
   "source": [
    "Project Euler: Problem 113 \n",
    "\n",
    "Working from left-to-right if no digit is exceeded by the digit to its left it is called an increasing number; for example, 134468.\n",
    "\n",
    "Similarly if no digit is exceeded by the digit to its right it is called a decreasing number; for example, 66420.\n",
    "\n",
    "We shall call a positive integer that is neither increasing nor decreasing a \"bouncy\" number; for example, 155349.\n",
    "\n",
    "As n increases, the proportion of bouncy numbers below n increases such that there are only 12951 numbers below one-million that are not bouncy and only 277032 non-bouncy numbers below 1010.\n",
    "\n",
    "How many numbers below a googol (10100) are not bouncy?\n",
    "\n",
    "https://projecteuler.net/problem=113"
   ]
  },
  {
   "cell_type": "code",
   "execution_count": 1,
   "id": "02017f0a",
   "metadata": {},
   "outputs": [],
   "source": [
    "import time"
   ]
  },
  {
   "cell_type": "code",
   "execution_count": 2,
   "id": "6e165d15",
   "metadata": {},
   "outputs": [],
   "source": [
    "# Method 1: Add an increasing/decreasin digit to the current number and add to set, if the current number doesn't \n",
    "# end in 9 for increasing number, or 0 for decreasing number\n",
    "# Eg: If set of increasing numbers from (i-1)th iter are (28, 35), add numbers 288, 289, 355, 356, 357, 358, 359 to the set in ith iter"
   ]
  },
  {
   "cell_type": "code",
   "execution_count": 3,
   "id": "1fe0a59f",
   "metadata": {},
   "outputs": [],
   "source": [
    "counter = 9 # Add numbers 0-9 to the non-bouncing number list\n",
    "power = 6"
   ]
  },
  {
   "cell_type": "code",
   "execution_count": 4,
   "id": "9c876a85",
   "metadata": {},
   "outputs": [
    {
     "name": "stdout",
     "output_type": "stream",
     "text": [
      "Epoch 2: 0.0\n",
      "Epoch 3: 0.0\n",
      "Epoch 4: 2.3941198984781902e-05\n",
      "Epoch 5: 7.512966791788737e-05\n",
      "Epoch 6: 0.00014199415842692059\n"
     ]
    }
   ],
   "source": [
    "# Increasing number\n",
    "inc_prev_iter = set(range(1, 10))\n",
    "inc_curr_iter = set()\n",
    "\n",
    "start = time.time()\n",
    "for epoch in range(2, power+1):\n",
    "    \n",
    "    for num in inc_prev_iter:\n",
    "        last_digit = num%10\n",
    "        if last_digit == 9:\n",
    "            counter += power - len(str(num))\n",
    "            continue\n",
    "        for digit in range(last_digit, 10):\n",
    "            inc_curr_iter.add(int(str(num)+str(digit)))\n",
    "                \n",
    "    end = time.time()\n",
    "    time_in_min = (end - start)/60\n",
    "    print(f\"Epoch {epoch}: {time_in_min}\")\n",
    "    \n",
    "    counter += len(inc_curr_iter)\n",
    "    inc_prev_iter = inc_curr_iter\n",
    "    inc_curr_iter = set()\n",
    "    \n",
    "# print(len(inc_prev_iter))"
   ]
  },
  {
   "cell_type": "code",
   "execution_count": 5,
   "id": "df3e7330",
   "metadata": {},
   "outputs": [
    {
     "data": {
      "text/plain": [
       "5004"
      ]
     },
     "execution_count": 5,
     "metadata": {},
     "output_type": "execute_result"
    }
   ],
   "source": [
    "counter"
   ]
  },
  {
   "cell_type": "code",
   "execution_count": 6,
   "id": "23f93f9b",
   "metadata": {},
   "outputs": [
    {
     "name": "stdout",
     "output_type": "stream",
     "text": [
      "Epoch 2: 0.0\n",
      "Epoch 3: 0.0\n",
      "Epoch 4: 4.427035649617513e-05\n",
      "Epoch 5: 0.00010203123092651367\n",
      "Epoch 6: 0.00020225842793782553\n",
      "4290\n"
     ]
    }
   ],
   "source": [
    "# Decreasing number\n",
    "dec_prev_iter = set(range(1, 10))\n",
    "dec_curr_iter = set()\n",
    "start = time.time()\n",
    "for epoch in range(2, power+1):\n",
    "    for num in dec_prev_iter:\n",
    "        last_digit = num%10\n",
    "        if last_digit == 0:\n",
    "            counter += power - len(str(num))\n",
    "            continue\n",
    "        for digit in range(0, last_digit+1):\n",
    "            if num%10 >= digit:\n",
    "                dec_curr_iter.add(int(str(num)+str(digit)))\n",
    "    end = time.time()\n",
    "    time_in_min = (end - start)/60\n",
    "    print(f\"Epoch {epoch}: {time_in_min}\")\n",
    "    \n",
    "    counter += len(dec_curr_iter)\n",
    "    dec_prev_iter = dec_curr_iter\n",
    "    dec_curr_iter = set()\n",
    "    \n",
    "print(len(dec_prev_iter))"
   ]
  },
  {
   "cell_type": "code",
   "execution_count": 7,
   "id": "6449e85f",
   "metadata": {},
   "outputs": [
    {
     "data": {
      "text/plain": [
       "12951"
      ]
     },
     "execution_count": 7,
     "metadata": {},
     "output_type": "execute_result"
    }
   ],
   "source": [
    "# Numbers comprising of the same digit repeated 'k' times (Eg: 11111, 99) \n",
    "# overlap in both increasing and decreasing number set.  \n",
    "# There are 9 such repeated numbers for every 'k' digit number. Hence, the number of overlapping numbers\n",
    "# is given by 9*(n-1)\n",
    "non_bouncy_count = counter - 9*(power-1)  \n",
    "non_bouncy_count"
   ]
  },
  {
   "cell_type": "code",
   "execution_count": 8,
   "id": "1031b83e",
   "metadata": {},
   "outputs": [],
   "source": [
    "# This above method is not performant in time and memory as power increases"
   ]
  },
  {
   "cell_type": "code",
   "execution_count": 9,
   "id": "b333736b",
   "metadata": {},
   "outputs": [],
   "source": [
    "# Method 2: Only keep count of ending digit"
   ]
  },
  {
   "cell_type": "code",
   "execution_count": 10,
   "id": "6c6c7b34",
   "metadata": {},
   "outputs": [],
   "source": [
    "n = 100\n",
    "counter = 9"
   ]
  },
  {
   "cell_type": "code",
   "execution_count": 11,
   "id": "57fc7e24",
   "metadata": {},
   "outputs": [
    {
     "name": "stdout",
     "output_type": "stream",
     "text": [
      "Time taken: 7.30593999226888e-05\n",
      "{1: 0, 2: 0, 3: 0, 4: 0, 5: 0, 6: 0, 7: 0, 8: 0, 9: 0} {1: 1, 2: 100, 3: 5050, 4: 171700, 5: 4421275, 6: 91962520, 7: 1609344100, 8: 24370067800, 9: 325949656825} 4263421511270\n"
     ]
    }
   ],
   "source": [
    "import copy \n",
    "\n",
    "numbers_ending_in_digit_prev = {i:1 for i in range(1, 10)}\n",
    "numbers_ending_in_digit_curr = {i:0 for i in range(1, 10)}\n",
    "\n",
    "start = time.time()\n",
    "for _ in range(2, n+1):\n",
    "    for digit in range(1, 10):\n",
    "        for i in range(digit, 10):\n",
    "            numbers_ending_in_digit_curr[i] += numbers_ending_in_digit_prev[digit]\n",
    "    counter += sum(numbers_ending_in_digit_curr.values())\n",
    "    numbers_ending_in_digit_prev = copy.deepcopy(numbers_ending_in_digit_curr)\n",
    "    numbers_ending_in_digit_curr = {i:0 for i in range(1, 10)}\n",
    "     \n",
    "end = time.time()\n",
    "time_in_min = (end - start)/60\n",
    "print(f\"Time taken: {time_in_min}\")\n",
    "print(numbers_ending_in_digit_curr, numbers_ending_in_digit_prev, counter)"
   ]
  },
  {
   "cell_type": "code",
   "execution_count": 12,
   "id": "22931dcf",
   "metadata": {},
   "outputs": [
    {
     "name": "stdout",
     "output_type": "stream",
     "text": [
      "Time taken: 7.048447926839193e-05\n",
      "{0: 0, 1: 0, 2: 0, 3: 0, 4: 0, 5: 0, 6: 0, 7: 0, 8: 0, 9: 0} {0: 3911395881899, 1: 325949656825, 2: 24370067800, 3: 1609344100, 4: 91962520, 5: 4421275, 6: 171700, 7: 5050, 8: 100, 9: 1} 51161058135141\n"
     ]
    }
   ],
   "source": [
    "numbers_ending_in_digit_prev = {i:1 for i in range(1, 10)}\n",
    "numbers_ending_in_digit_curr = {i:0 for i in range(0, 10)}\n",
    "\n",
    "start = time.time()\n",
    "for _ in range(2, n+1):\n",
    "    for digit in range(0, 10):\n",
    "        for i in range(digit, -1, -1):\n",
    "            if digit not in numbers_ending_in_digit_prev:\n",
    "                continue\n",
    "            numbers_ending_in_digit_curr[i] += numbers_ending_in_digit_prev[digit]\n",
    "    counter += sum(numbers_ending_in_digit_curr.values())\n",
    "    numbers_ending_in_digit_prev = copy.deepcopy(numbers_ending_in_digit_curr)\n",
    "    numbers_ending_in_digit_curr = {i:0 for i in range(0, 10)}\n",
    "  \n",
    "end = time.time()\n",
    "time_in_min = (end - start)/60\n",
    "print(f\"Time taken: {time_in_min}\")\n",
    "\n",
    "print(numbers_ending_in_digit_curr, numbers_ending_in_digit_prev, counter)"
   ]
  },
  {
   "cell_type": "code",
   "execution_count": 13,
   "id": "f72b66bb",
   "metadata": {},
   "outputs": [
    {
     "data": {
      "text/plain": [
       "51161058134250"
      ]
     },
     "execution_count": 13,
     "metadata": {},
     "output_type": "execute_result"
    }
   ],
   "source": [
    "# Numbers comprising of the same digit repeated 'k' times (Eg: 11111, 99) \n",
    "# overlap in both increasing and decreasing number set.  \n",
    "# There are 9 such repeated numbers for every 'k' digit number. Hence, the number of overlapping numbers\n",
    "# is given by 9*(n-1)\n",
    "non_bouncy_count = counter - 9*(n-1)\n",
    "non_bouncy_count"
   ]
  },
  {
   "cell_type": "code",
   "execution_count": 14,
   "id": "8d14663b",
   "metadata": {},
   "outputs": [],
   "source": [
    "# Method 3: Analytical solution - The problem can be thought of as there being an infinite pool \n",
    "# of each digit (1-9 for increasing number and 0-9 for decreasing number). The problem can \n",
    "# be reduced to finding the number of ways to sample 'k' digits with replacement, where order doesn't matter. k -> 1 to 100 \n",
    "# Each number after being sampled can be sorted to to satify the requirement of being an increasing/decreasing number"
   ]
  },
  {
   "cell_type": "code",
   "execution_count": 15,
   "id": "ed5450d1",
   "metadata": {},
   "outputs": [],
   "source": [
    "import math\n",
    "def binom(n, k):\n",
    "    return math.factorial(n) // math.factorial(k) // math.factorial(n - k)"
   ]
  },
  {
   "cell_type": "code",
   "execution_count": 17,
   "id": "4ed5fabd",
   "metadata": {},
   "outputs": [
    {
     "data": {
      "text/plain": [
       "51161058134250"
      ]
     },
     "execution_count": 17,
     "metadata": {},
     "output_type": "execute_result"
    }
   ],
   "source": [
    "from scipy.special import comb\n",
    "\n",
    "# (100+10) C 10 - 1 + (100+9) C 9 - 1 - 10*(100)\n",
    "non_bouncy_count = binom(110, 10) + binom(109, 9) -2 - 100*10\n",
    "non_bouncy_count"
   ]
  },
  {
   "cell_type": "code",
   "execution_count": null,
   "id": "b0fd3158",
   "metadata": {},
   "outputs": [],
   "source": []
  }
 ],
 "metadata": {
  "kernelspec": {
   "display_name": "Python 3 (ipykernel)",
   "language": "python",
   "name": "python3"
  },
  "language_info": {
   "codemirror_mode": {
    "name": "ipython",
    "version": 3
   },
   "file_extension": ".py",
   "mimetype": "text/x-python",
   "name": "python",
   "nbconvert_exporter": "python",
   "pygments_lexer": "ipython3",
   "version": "3.7.8"
  }
 },
 "nbformat": 4,
 "nbformat_minor": 5
}
